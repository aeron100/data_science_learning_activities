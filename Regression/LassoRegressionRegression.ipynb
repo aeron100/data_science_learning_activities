{
  "nbformat": 4,
  "nbformat_minor": 0,
  "metadata": {
    "colab": {
      "provenance": []
    },
    "kernelspec": {
      "name": "python3",
      "display_name": "Python 3"
    },
    "language_info": {
      "name": "python"
    }
  },
  "cells": [
    {
      "cell_type": "code",
      "source": [
        "#Load the data from winequality.csv\n",
        "import pandas as pd\n",
        "\n",
        "# Load the data from the specified CSV file into a pandas DataFrame\n",
        "df = pd.read_csv('/content/winequality.csv')\n",
        "\n",
        "# Display the first few rows of the DataFrame to confirm the data is loaded\n",
        "print(df.head())\n"
      ],
      "metadata": {
        "colab": {
          "base_uri": "https://localhost:8080/"
        },
        "id": "iMmQ-0XomqWL",
        "outputId": "886917c2-aa7d-4e88-eff4-f019d58816a5"
      },
      "execution_count": 3,
      "outputs": [
        {
          "output_type": "stream",
          "name": "stdout",
          "text": [
            "   fixed_acidity  volatile_acidity  citric_acid  residual_sugar  chlorides  \\\n",
            "0            7.4              0.70         0.00             1.9      0.076   \n",
            "1            7.8              0.88         0.00             2.6      0.098   \n",
            "2            7.8              0.76         0.04             2.3      0.092   \n",
            "3           11.2              0.28         0.56             1.9      0.075   \n",
            "4            7.4              0.70         0.00             1.9      0.076   \n",
            "\n",
            "   free_sulfur_dioxide  total_sulfur_dioxide  density    pH  sulphates  \\\n",
            "0                 11.0                  34.0   0.9978  3.51       0.56   \n",
            "1                 25.0                  67.0   0.9968  3.20       0.68   \n",
            "2                 15.0                  54.0   0.9970  3.26       0.65   \n",
            "3                 17.0                  60.0   0.9980  3.16       0.58   \n",
            "4                 11.0                  34.0   0.9978  3.51       0.56   \n",
            "\n",
            "   alcohol  quality  \n",
            "0      9.4        5  \n",
            "1      9.8        5  \n",
            "2      9.8        5  \n",
            "3      9.8        6  \n",
            "4      9.4        5  \n"
          ]
        }
      ]
    },
    {
      "cell_type": "code",
      "source": [
        "# Lasso regression with an output and an interpretation of the results\n",
        "\n",
        "from sklearn.linear_model import Lasso\n",
        "from sklearn.model_selection import train_test_split\n",
        "from sklearn.metrics import mean_squared_error\n",
        "import numpy as np\n",
        "\n",
        "# Assume 'quality' is the target variable and the rest are features\n",
        "X = df.drop('quality', axis=1)\n",
        "y = df['quality']\n",
        "\n",
        "# Split the data into training and testing sets\n",
        "X_train, X_test, y_train, y_test = train_test_split(X, y, test_size=0.2, random_state=42)\n",
        "\n",
        "# Initialize the Lasso Regressor\n",
        "# You can experiment with different alpha values (regularization strength)\n",
        "# A smaller alpha means less regularization\n",
        "lasso = Lasso(alpha=0.1)\n",
        "\n",
        "# Fit the model to the training data\n",
        "lasso.fit(X_train, y_train)\n",
        "\n",
        "# Make predictions on the test data\n",
        "y_pred = lasso.predict(X_test)\n",
        "\n",
        "# Evaluate the model\n",
        "mse = mean_squared_error(y_test, y_pred)\n",
        "rmse = np.sqrt(mse)\n",
        "\n",
        "print(f\"Mean Squared Error: {mse:.2f}\")\n",
        "print(f\"Root Mean Squared Error: {rmse:.2f}\")\n",
        "\n",
        "# Interpretation of the results\n",
        "print(\"\\nLasso Regression Coefficients:\")\n",
        "# Get the feature names\n",
        "feature_names = X.columns\n",
        "\n",
        "# Get the coefficients from the trained model\n",
        "coefficients = lasso.coef_\n",
        "\n",
        "# Create a DataFrame to display coefficients\n",
        "coef_df = pd.DataFrame({'Feature': feature_names, 'Coefficient': coefficients})\n",
        "\n",
        "# Sort by absolute coefficient value to see which features have the most impact\n",
        "coef_df['Absolute Coefficient'] = abs(coef_df['Coefficient'])\n",
        "coef_df = coef_df.sort_values(by='Absolute Coefficient', ascending=False)\n",
        "\n",
        "print(coef_df)\n",
        "\n",
        "print(\"\\nInterpretation:\")\n",
        "print(\"Lasso Regression is used to perform both variable selection and regularization.\")\n",
        "print(\"It shrinks the coefficients of less important features towards zero.\")\n",
        "print(f\"The Mean Squared Error ({mse:.2f}) and Root Mean Squared Error ({rmse:.2f}) indicate the average squared difference and average difference between the predicted and actual quality scores, respectively.\")\n",
        "print(\"Lower values for MSE and RMSE indicate a better fit of the model to the data.\")\n",
        "print(\"The coefficients in the table above represent the impact of each feature on the 'quality' variable.\")\n",
        "print(\"A positive coefficient means that as the value of that feature increases, the predicted quality is expected to increase.\")\n",
        "print(\"A negative coefficient means that as the value of that feature increases, the predicted quality is expected to decrease.\")\n",
        "print(\"Coefficients that are exactly zero mean that Lasso has effectively removed that feature from the model, considering it not significant for prediction given the chosen alpha.\")\n",
        "print(\"The magnitude of the coefficient indicates the strength of the relationship.\")\n",
        "print(f\"With alpha = 0.1, some coefficients have been shrunk towards or exactly to zero, indicating that those features have less influence on the wine quality according to this model.\")\n",
        "print(\"Features with larger absolute coefficients are considered more important predictors of wine quality by this Lasso model.\")\n"
      ],
      "metadata": {
        "colab": {
          "base_uri": "https://localhost:8080/"
        },
        "id": "uFLxEbYYo7Ue",
        "outputId": "e8381283-8e21-4335-be0c-dbcb260a924d"
      },
      "execution_count": 6,
      "outputs": [
        {
          "output_type": "stream",
          "name": "stdout",
          "text": [
            "Mean Squared Error: 0.50\n",
            "Root Mean Squared Error: 0.71\n",
            "\n",
            "Lasso Regression Coefficients:\n",
            "                 Feature  Coefficient  Absolute Coefficient\n",
            "10               alcohol     0.250518              0.250518\n",
            "0          fixed_acidity     0.029804              0.029804\n",
            "5    free_sulfur_dioxide     0.006538              0.006538\n",
            "6   total_sulfur_dioxide    -0.004184              0.004184\n",
            "1       volatile_acidity    -0.000000              0.000000\n",
            "2            citric_acid     0.000000              0.000000\n",
            "4              chlorides    -0.000000              0.000000\n",
            "3         residual_sugar    -0.000000              0.000000\n",
            "7                density    -0.000000              0.000000\n",
            "8                     pH    -0.000000              0.000000\n",
            "9              sulphates     0.000000              0.000000\n",
            "\n",
            "Interpretation:\n",
            "Lasso Regression is used to perform both variable selection and regularization.\n",
            "It shrinks the coefficients of less important features towards zero.\n",
            "The Mean Squared Error (0.50) and Root Mean Squared Error (0.71) indicate the average squared difference and average difference between the predicted and actual quality scores, respectively.\n",
            "Lower values for MSE and RMSE indicate a better fit of the model to the data.\n",
            "The coefficients in the table above represent the impact of each feature on the 'quality' variable.\n",
            "A positive coefficient means that as the value of that feature increases, the predicted quality is expected to increase.\n",
            "A negative coefficient means that as the value of that feature increases, the predicted quality is expected to decrease.\n",
            "Coefficients that are exactly zero mean that Lasso has effectively removed that feature from the model, considering it not significant for prediction given the chosen alpha.\n",
            "The magnitude of the coefficient indicates the strength of the relationship.\n",
            "With alpha = 0.1, some coefficients have been shrunk towards or exactly to zero, indicating that those features have less influence on the wine quality according to this model.\n",
            "Features with larger absolute coefficients are considered more important predictors of wine quality by this Lasso model.\n"
          ]
        }
      ]
    }
  ]
}