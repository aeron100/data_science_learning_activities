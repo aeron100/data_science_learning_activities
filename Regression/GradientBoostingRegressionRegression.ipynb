{
  "nbformat": 4,
  "nbformat_minor": 0,
  "metadata": {
    "colab": {
      "provenance": []
    },
    "kernelspec": {
      "name": "python3",
      "display_name": "Python 3"
    },
    "language_info": {
      "name": "python"
    }
  },
  "cells": [
    {
      "cell_type": "code",
      "source": [
        "#Load the data from winequality.csv\n",
        "import pandas as pd\n",
        "\n",
        "# Load the data from the specified CSV file into a pandas DataFrame\n",
        "df = pd.read_csv('/content/winequality.csv')\n",
        "\n",
        "# Display the first few rows of the DataFrame to confirm the data is loaded\n",
        "print(df.head())\n"
      ],
      "metadata": {
        "colab": {
          "base_uri": "https://localhost:8080/"
        },
        "id": "iMmQ-0XomqWL",
        "outputId": "886917c2-aa7d-4e88-eff4-f019d58816a5"
      },
      "execution_count": 3,
      "outputs": [
        {
          "output_type": "stream",
          "name": "stdout",
          "text": [
            "   fixed_acidity  volatile_acidity  citric_acid  residual_sugar  chlorides  \\\n",
            "0            7.4              0.70         0.00             1.9      0.076   \n",
            "1            7.8              0.88         0.00             2.6      0.098   \n",
            "2            7.8              0.76         0.04             2.3      0.092   \n",
            "3           11.2              0.28         0.56             1.9      0.075   \n",
            "4            7.4              0.70         0.00             1.9      0.076   \n",
            "\n",
            "   free_sulfur_dioxide  total_sulfur_dioxide  density    pH  sulphates  \\\n",
            "0                 11.0                  34.0   0.9978  3.51       0.56   \n",
            "1                 25.0                  67.0   0.9968  3.20       0.68   \n",
            "2                 15.0                  54.0   0.9970  3.26       0.65   \n",
            "3                 17.0                  60.0   0.9980  3.16       0.58   \n",
            "4                 11.0                  34.0   0.9978  3.51       0.56   \n",
            "\n",
            "   alcohol  quality  \n",
            "0      9.4        5  \n",
            "1      9.8        5  \n",
            "2      9.8        5  \n",
            "3      9.8        6  \n",
            "4      9.4        5  \n"
          ]
        }
      ]
    },
    {
      "cell_type": "code",
      "source": [
        "# Gradient Boosting Regression with a target variable as 'quality' and all the other variables as the predictor variables. A summary of the output with model interpretation.\n",
        "\n",
        "import pandas as pd\n",
        "from sklearn.ensemble import GradientBoostingRegressor\n",
        "from sklearn.model_selection import train_test_split\n",
        "from sklearn.metrics import mean_squared_error, r2_score\n",
        "\n",
        "# df = pd.read_csv('/content/winequality.csv')\n",
        "\n",
        "# Define features (X) and target (y)\n",
        "X = df.drop('quality', axis=1)\n",
        "y = df['quality']\n",
        "\n",
        "# Initialize and fit the Gradient Boosting Regressor\n",
        "gbr = GradientBoostingRegressor()  # Use default parameters for now\n",
        "gbr.fit(X, y)\n",
        "\n",
        "#Feature Importance\n",
        "feature_importance = gbr.feature_importances_\n",
        "feature_names = X.columns\n",
        "for i, importance in enumerate(feature_importance):\n",
        "    print(f\"Feature: {feature_names[i]}, Importance: {importance:.4f}\")\n",
        "\n",
        "# Model Interpretation Summary (based on feature importance)\n",
        "print(\"\\nModel Interpretation:\")\n",
        "print(\"The Gradient Boosting Regressor identifies the following as the most important features for predicting wine quality:\")\n",
        "# Print the top 3 most important features\n",
        "sorted_feature_importance_indices = feature_importance.argsort()[::-1]\n",
        "for i in sorted_feature_importance_indices[:3]:\n",
        "  print(f\"- {feature_names[i]} (Importance: {feature_importance[i]:.4f})\")\n",
        "print(\"Other features also contribute, but to a lesser extent.\")\n"
      ],
      "metadata": {
        "colab": {
          "base_uri": "https://localhost:8080/"
        },
        "id": "-bMXWqKonR-C",
        "outputId": "f4fed6a5-3c13-4517-87f6-56d68f96e79b"
      },
      "execution_count": 5,
      "outputs": [
        {
          "output_type": "stream",
          "name": "stdout",
          "text": [
            "Feature: fixed_acidity, Importance: 0.0410\n",
            "Feature: volatile_acidity, Importance: 0.1558\n",
            "Feature: citric_acid, Importance: 0.0263\n",
            "Feature: residual_sugar, Importance: 0.0254\n",
            "Feature: chlorides, Importance: 0.0355\n",
            "Feature: free_sulfur_dioxide, Importance: 0.0197\n",
            "Feature: total_sulfur_dioxide, Importance: 0.0765\n",
            "Feature: density, Importance: 0.0346\n",
            "Feature: pH, Importance: 0.0354\n",
            "Feature: sulphates, Importance: 0.1642\n",
            "Feature: alcohol, Importance: 0.3856\n",
            "\n",
            "Model Interpretation:\n",
            "The Gradient Boosting Regressor identifies the following as the most important features for predicting wine quality:\n",
            "- alcohol (Importance: 0.3856)\n",
            "- sulphates (Importance: 0.1642)\n",
            "- volatile_acidity (Importance: 0.1558)\n",
            "Other features also contribute, but to a lesser extent.\n"
          ]
        }
      ]
    }
  ]
}