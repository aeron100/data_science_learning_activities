{
  "nbformat": 4,
  "nbformat_minor": 0,
  "metadata": {
    "colab": {
      "provenance": []
    },
    "kernelspec": {
      "name": "python3",
      "display_name": "Python 3"
    },
    "language_info": {
      "name": "python"
    }
  },
  "cells": [
    {
      "cell_type": "code",
      "source": [
        "#Load the data from winequality.csv\n",
        "import pandas as pd\n",
        "\n",
        "# Load the data from the specified CSV file into a pandas DataFrame\n",
        "df = pd.read_csv('/content/winequality.csv')\n",
        "\n",
        "# Display the first few rows of the DataFrame to confirm the data is loaded\n",
        "print(df.head())\n"
      ],
      "metadata": {
        "colab": {
          "base_uri": "https://localhost:8080/"
        },
        "id": "iMmQ-0XomqWL",
        "outputId": "886917c2-aa7d-4e88-eff4-f019d58816a5"
      },
      "execution_count": 3,
      "outputs": [
        {
          "output_type": "stream",
          "name": "stdout",
          "text": [
            "   fixed_acidity  volatile_acidity  citric_acid  residual_sugar  chlorides  \\\n",
            "0            7.4              0.70         0.00             1.9      0.076   \n",
            "1            7.8              0.88         0.00             2.6      0.098   \n",
            "2            7.8              0.76         0.04             2.3      0.092   \n",
            "3           11.2              0.28         0.56             1.9      0.075   \n",
            "4            7.4              0.70         0.00             1.9      0.076   \n",
            "\n",
            "   free_sulfur_dioxide  total_sulfur_dioxide  density    pH  sulphates  \\\n",
            "0                 11.0                  34.0   0.9978  3.51       0.56   \n",
            "1                 25.0                  67.0   0.9968  3.20       0.68   \n",
            "2                 15.0                  54.0   0.9970  3.26       0.65   \n",
            "3                 17.0                  60.0   0.9980  3.16       0.58   \n",
            "4                 11.0                  34.0   0.9978  3.51       0.56   \n",
            "\n",
            "   alcohol  quality  \n",
            "0      9.4        5  \n",
            "1      9.8        5  \n",
            "2      9.8        5  \n",
            "3      9.8        6  \n",
            "4      9.4        5  \n"
          ]
        }
      ]
    },
    {
      "cell_type": "code",
      "source": [
        "# Ridge Regression with an output and interpretation of the results\n",
        "\n",
        "from sklearn.linear_model import Ridge\n",
        "from sklearn.model_selection import train_test_split\n",
        "from sklearn.metrics import mean_squared_error, r2_score\n",
        "import pandas as pd\n",
        "\n",
        "# Assuming 'quality' is the target variable and the rest are features\n",
        "X = df.drop('quality', axis=1)\n",
        "y = df['quality']\n",
        "\n",
        "# Split the data into training and testing sets\n",
        "X_train, X_test, y_train, y_test = train_test_split(X, y, test_size=0.2, random_state=42)\n",
        "\n",
        "# Create a Ridge Regression model\n",
        "ridge = Ridge(alpha=1.0)  # alpha is the regularization strength\n",
        "\n",
        "# Train the model\n",
        "ridge.fit(X_train, y_train)\n",
        "\n",
        "# Make predictions on the test set\n",
        "y_pred = ridge.predict(X_test)\n",
        "\n",
        "# Evaluate the model\n",
        "mse = mean_squared_error(y_test, y_pred)\n",
        "r2 = r2_score(y_test, y_pred)\n",
        "\n",
        "print(f'Mean Squared Error (MSE): {mse:.4f}')\n",
        "print(f'R-squared (R2): {r2:.4f}')\n",
        "\n",
        "# Interpretation of the results\n",
        "print(\"\\nInterpretation:\")\n",
        "print(f\"- The Mean Squared Error (MSE) of {mse:.4f} represents the average squared difference between the actual and predicted 'quality' values. A lower MSE indicates better model performance.\")\n",
        "print(f\"- The R-squared (R2) value of {r2:.4f} indicates the proportion of the variance in the 'quality' variable that is predictable from the features. An R2 value closer to 1 suggests that the model explains a larger portion of the variance.\")\n",
        "print(\"- The Ridge model includes an L2 regularization term (controlled by the 'alpha' parameter) which helps to prevent overfitting by penalizing large coefficients. This can be particularly useful when dealing with multicollinearity in the features.\")\n",
        "print(\"\\nModel Coefficients:\")\n",
        "for feature, coef in zip(X.columns, ridge.coef_):\n",
        "  print(f\"{feature}: {coef:.4f}\")\n",
        "\n",
        "print(\"\\nInterpretation of Coefficients:\")\n",
        "print(\"- The coefficients represent the change in the predicted 'quality' for a one-unit increase in the corresponding feature, holding other features constant.\")\n",
        "print(\"- The magnitude and sign of the coefficients indicate the strength and direction of the relationship between each feature and the target variable ('quality').\")\n",
        "print(\"- Ridge regression shrinks the coefficients towards zero compared to standard linear regression. Features with smaller coefficients have less impact on the predicted quality in this regularized model.\")\n",
        "print(\"  For example, a positive coefficient for 'alcohol' suggests that wines with higher alcohol content tend to have higher quality, while a negative coefficient for 'volatile acidity' suggests that higher volatile acidity is associated with lower quality.\")\n",
        "print(\"  Note that the actual impact of each feature is also dependent on the scale of the feature and its coefficient.\")\n",
        "print(\"- The intercept represents the predicted 'quality' when all features are zero (though this interpretation might not be meaningful for all features in this dataset).\")\n",
        "print(f\"Intercept: {ridge.intercept_:.4f}\")"
      ],
      "metadata": {
        "colab": {
          "base_uri": "https://localhost:8080/"
        },
        "id": "cIrs2tRRpXzc",
        "outputId": "050d0b90-eaff-4ec1-e47e-4e3088c63b2c"
      },
      "execution_count": 7,
      "outputs": [
        {
          "output_type": "stream",
          "name": "stdout",
          "text": [
            "Mean Squared Error (MSE): 0.3929\n",
            "R-squared (R2): 0.3987\n",
            "\n",
            "Interpretation:\n",
            "- The Mean Squared Error (MSE) of 0.3929 represents the average squared difference between the actual and predicted 'quality' values. A lower MSE indicates better model performance.\n",
            "- The R-squared (R2) value of 0.3987 indicates the proportion of the variance in the 'quality' variable that is predictable from the features. An R2 value closer to 1 suggests that the model explains a larger portion of the variance.\n",
            "- The Ridge model includes an L2 regularization term (controlled by the 'alpha' parameter) which helps to prevent overfitting by penalizing large coefficients. This can be particularly useful when dealing with multicollinearity in the features.\n",
            "\n",
            "Model Coefficients:\n",
            "fixed_acidity: 0.0196\n",
            "volatile_acidity: -1.0215\n",
            "citric_acid: -0.1643\n",
            "residual_sugar: 0.0006\n",
            "chlorides: -1.2268\n",
            "free_sulfur_dioxide: 0.0057\n",
            "total_sulfur_dioxide: -0.0036\n",
            "density: -0.0112\n",
            "pH: -0.3762\n",
            "sulphates: 0.7470\n",
            "alcohol: 0.2976\n",
            "\n",
            "Interpretation of Coefficients:\n",
            "- The coefficients represent the change in the predicted 'quality' for a one-unit increase in the corresponding feature, holding other features constant.\n",
            "- The magnitude and sign of the coefficients indicate the strength and direction of the relationship between each feature and the target variable ('quality').\n",
            "- Ridge regression shrinks the coefficients towards zero compared to standard linear regression. Features with smaller coefficients have less impact on the predicted quality in this regularized model.\n",
            "  For example, a positive coefficient for 'alcohol' suggests that wines with higher alcohol content tend to have higher quality, while a negative coefficient for 'volatile acidity' suggests that higher volatile acidity is associated with lower quality.\n",
            "  Note that the actual impact of each feature is also dependent on the scale of the feature and its coefficient.\n",
            "- The intercept represents the predicted 'quality' when all features are zero (though this interpretation might not be meaningful for all features in this dataset).\n",
            "Intercept: 3.8939\n"
          ]
        }
      ]
    }
  ]
}