{
  "nbformat": 4,
  "nbformat_minor": 0,
  "metadata": {
    "colab": {
      "provenance": []
    },
    "kernelspec": {
      "name": "python3",
      "display_name": "Python 3"
    },
    "language_info": {
      "name": "python"
    }
  },
  "cells": [
    {
      "cell_type": "code",
      "source": [
        "import pandas as pd\n",
        "from mlxtend.frequent_patterns import apriori, association_rules\n",
        "from mlxtend.preprocessing import TransactionEncoder\n",
        "\n",
        "# Load dataset\n",
        "groceries_df = pd.read_csv('/content/Groceries.csv')\n",
        "\n",
        "# Preprocess and group transactions\n",
        "transactions = groceries_df.groupby(['Member_number', 'Date'])['itemDescription'].apply(list).tolist()\n",
        "\n",
        "# Encode transactions\n",
        "te = TransactionEncoder()\n",
        "transactions_encoded = pd.DataFrame(te.fit(transactions).transform(transactions), columns=te.columns_)\n",
        "\n",
        "# Check item frequency to identify suitable support threshold\n",
        "item_counts = pd.Series([item for sublist in transactions for item in sublist]).value_counts()\n",
        "print(item_counts.head(15))\n",
        "\n",
        "# Adjust min_support based on the item frequency (set it lower, e.g., 0.005)\n",
        "frequent_itemsets = apriori(transactions_encoded, min_support=0.005, use_colnames=True)\n",
        "\n",
        "# Generate association rules\n",
        "rules = association_rules(frequent_itemsets, metric=\"lift\", min_threshold=1)\n",
        "\n",
        "# Sort and display top 10 rules by lift\n",
        "rules_sorted = rules.sort_values(by='lift', ascending=False).head(10)\n",
        "print(rules_sorted)\n"
      ],
      "metadata": {
        "colab": {
          "base_uri": "https://localhost:8080/"
        },
        "id": "rr5Sspy2cVIn",
        "outputId": "017ff31e-8a19-4f48-aa5a-802f99a0df83"
      },
      "execution_count": 3,
      "outputs": [
        {
          "output_type": "stream",
          "name": "stdout",
          "text": [
            "whole milk          2502\n",
            "other vegetables    1898\n",
            "rolls/buns          1716\n",
            "soda                1514\n",
            "yogurt              1334\n",
            "root vegetables     1071\n",
            "tropical fruit      1032\n",
            "bottled water        933\n",
            "sausage              924\n",
            "citrus fruit         812\n",
            "pastry               785\n",
            "pip fruit            744\n",
            "shopping bags        731\n",
            "canned beer          717\n",
            "bottled beer         687\n",
            "Name: count, dtype: int64\n",
            "          antecedents         consequents  antecedent support  \\\n",
            "1       (frankfurter)  (other vegetables)            0.037760   \n",
            "0  (other vegetables)       (frankfurter)            0.122101   \n",
            "5            (yogurt)           (sausage)            0.085879   \n",
            "4           (sausage)            (yogurt)            0.060349   \n",
            "3           (sausage)              (soda)            0.060349   \n",
            "2              (soda)           (sausage)            0.097106   \n",
            "\n",
            "   consequent support   support  confidence      lift  representativity  \\\n",
            "1            0.122101  0.005146    0.136283  1.116150               1.0   \n",
            "0            0.037760  0.005146    0.042146  1.116150               1.0   \n",
            "5            0.060349  0.005748    0.066926  1.108986               1.0   \n",
            "4            0.085879  0.005748    0.095238  1.108986               1.0   \n",
            "3            0.097106  0.005948    0.098560  1.014975               1.0   \n",
            "2            0.060349  0.005948    0.061253  1.014975               1.0   \n",
            "\n",
            "   leverage  conviction  zhangs_metric   jaccard  certainty  kulczynski  \n",
            "1  0.000536    1.016420       0.108146  0.033261   0.016154    0.089214  \n",
            "0  0.000536    1.004579       0.118536  0.033261   0.004558    0.089214  \n",
            "5  0.000565    1.007049       0.107508  0.040913   0.007000    0.081082  \n",
            "4  0.000565    1.010345       0.104587  0.040913   0.010239    0.081082  \n",
            "3  0.000088    1.001613       0.015702  0.039259   0.001611    0.079906  \n",
            "2  0.000088    1.000963       0.016341  0.039259   0.000962    0.079906  \n"
          ]
        }
      ]
    }
  ]
}