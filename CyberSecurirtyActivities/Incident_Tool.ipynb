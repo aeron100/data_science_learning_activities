{
  "nbformat": 4,
  "nbformat_minor": 0,
  "metadata": {
    "colab": {
      "provenance": []
    },
    "kernelspec": {
      "name": "python3",
      "display_name": "Python 3"
    },
    "language_info": {
      "name": "python"
    }
  },
  "cells": [
    {
      "cell_type": "code",
      "execution_count": null,
      "metadata": {
        "colab": {
          "base_uri": "https://localhost:8080/"
        },
        "id": "8Y_mrcn9lvAJ",
        "outputId": "a9d21a4a-6e3a-4666-d9e7-2ef4053404e0"
      },
      "outputs": [
        {
          "output_type": "stream",
          "name": "stdout",
          "text": [
            "Total incidents: 3\n",
            "Total damage: $130000\n",
            "Average damage per incident: $43333.333333333336\n"
          ]
        }
      ],
      "source": [
        "# Develop a basic system to track cybersecurity incidents (like phishing, malware, DDoS attacks).  Each incident is recorded individually, but you also need to keep track of the overall number of incidents and total estimated damages.\n",
        "# Create a class called Incident.\n",
        "# Each Incident object should have these instance variables:\n",
        "# incident_type (e.g., \"Phishing\", \"Malware\", \"DDoS Attack\", etc)\n",
        "# organization\n",
        "# severity_level (e.g., \"Low\", \"Medium\", \"High\", \"Critical\", etc)\n",
        "# estimated_damage (a dollar amount)\n",
        "# The class should also have these class variables:\n",
        "# total_incidents — counts the total number of incidents recorded (start at 0).\n",
        "# total_damage — adds up the estimated damage of all incidents recorded.\n",
        "# Every time a new Incident is created:\n",
        "# Increment Incident.total_incidents by 1.\n",
        "# Add the incident's estimated damage to Incident.total_damage.\n",
        "# After creating several incidents, calculate the average estimated damage across all incidents using only class variables.\n",
        "\n",
        "class Incident:\n",
        "  total_incidents = 0\n",
        "  total_damage = 0\n",
        "\n",
        "  def __init__(self, incident_type, organization, severity_level, estimated_damage):\n",
        "    self.incident_type = incident_type\n",
        "    self.organization = organization\n",
        "    self.severity_level = severity_level\n",
        "    self.estimated_damage = estimated_damage\n",
        "\n",
        "    Incident.total_incidents += 1\n",
        "    Incident.total_damage += estimated_damage\n",
        "\n",
        "# Example Usage\n",
        "incident1 = Incident(\"Phishing\", \"Tech Corp\", \"Medium\", 5000)\n",
        "incident2 = Incident(\"Malware\", \"Finance Group\", \"High\", 25000)\n",
        "incident3 = Incident(\"DDoS Attack\", \"Retail Store\", \"Critical\", 100000)\n",
        "\n",
        "print(f\"Total incidents: {Incident.total_incidents}\")\n",
        "print(f\"Total damage: ${Incident.total_damage}\")\n",
        "\n",
        "# Calculate average damage\n",
        "if Incident.total_incidents > 0:\n",
        "  average_damage = Incident.total_damage / Incident.total_incidents\n",
        "  print(f\"Average damage per incident: ${average_damage}\")\n",
        "else:\n",
        "  print(\"No incidents recorded yet.\")"
      ]
    }
  ]
}